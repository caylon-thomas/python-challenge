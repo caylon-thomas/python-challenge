{
 "cells": [
  {
   "cell_type": "code",
   "execution_count": 10,
   "metadata": {},
   "outputs": [],
   "source": [
    "import time\n",
    "import sys\n",
    "import urllib3\n",
    "import zipfile36 as zp\n",
    "import os\n",
    "import pandas as pd\n",
    "import collections as clt\n",
    "import pyprind as bar"
   ]
  },
  {
   "cell_type": "code",
   "execution_count": 11,
   "metadata": {},
   "outputs": [],
   "source": [
    "data_folder = \"zipFiles/\"\n",
    "folder_path = os.listdir(data_folder)"
   ]
  },
  {
   "cell_type": "code",
   "execution_count": 12,
   "metadata": {
    "deletable": false,
    "editable": false,
    "run_control": {
     "frozen": true
    }
   },
   "outputs": [
    {
     "name": "stderr",
     "output_type": "stream",
     "text": [
      "Extracting CitiBike Zip File Data\n",
      "0% [##] 100% | ETA: 00:00:00\n",
      "Total time elapsed: 00:00:01\n"
     ]
    }
   ],
   "source": [
    "completion = bar.ProgBar(len(folder_path), monitor=True, title=\"Extracting CitiBike Zip File Data\")\n",
    "for item in folder_path:\n",
    "    extraction = zp.ZipFile(data_folder+item)\n",
    "    extraction.extractall(\"csv/\")\n",
    "    completion.update()"
   ]
  },
  {
   "cell_type": "code",
   "execution_count": 13,
   "metadata": {},
   "outputs": [],
   "source": [
    "csv_data = os.listdir(\"csv/\")"
   ]
  },
  {
   "cell_type": "code",
   "execution_count": 14,
   "metadata": {
    "code_folding": []
   },
   "outputs": [],
   "source": [
    "if csv_data[0] == \".ipynb_checkpoints\":\n",
    "    csv_data = csv_data[1:]\n",
    "else:\n",
    "    csv_data[:] = csv_data[:]"
   ]
  },
  {
   "cell_type": "code",
   "execution_count": 15,
   "metadata": {},
   "outputs": [],
   "source": [
    "combined_csv = pd.concat( [ pd.read_csv(\"csv/\"+f) for f in csv_data ] )"
   ]
  },
  {
   "cell_type": "code",
   "execution_count": 16,
   "metadata": {},
   "outputs": [],
   "source": [
    "clean_csv = combined_csv.drop_duplicates()"
   ]
  },
  {
   "cell_type": "code",
   "execution_count": null,
   "metadata": {},
   "outputs": [],
   "source": [
    "clean_csv.to_csv(\"tableauData.csv\")"
   ]
  }
 ],
 "metadata": {
  "kernelspec": {
   "display_name": "Python 3",
   "language": "python",
   "name": "python3"
  },
  "language_info": {
   "codemirror_mode": {
    "name": "ipython",
    "version": 3
   },
   "file_extension": ".py",
   "mimetype": "text/x-python",
   "name": "python",
   "nbconvert_exporter": "python",
   "pygments_lexer": "ipython3",
   "version": "3.6.6"
  }
 },
 "nbformat": 4,
 "nbformat_minor": 2
}
