{
 "cells": [
  {
   "cell_type": "code",
   "execution_count": 1,
   "metadata": {},
   "outputs": [],
   "source": [
    "import pandas as pd\n",
    "import numpy as np\n",
    "import pyprind as bar\n",
    "import sys\n",
    "from bs4 import BeautifulSoup as bs\n",
    "from splinter import Browser\n",
    "import requests\n",
    "import time\n",
    "import urllib3\n",
    "import zipfile36 as zp"
   ]
  },
  {
   "cell_type": "code",
   "execution_count": 2,
   "metadata": {},
   "outputs": [],
   "source": [
    "url_path = \"https://s3.amazonaws.com/tripdata/index.html\""
   ]
  },
  {
   "cell_type": "code",
   "execution_count": 3,
   "metadata": {},
   "outputs": [],
   "source": [
    "executable_path = {\"executable_path\": \"chromedriver.exe\"}\n",
    "session = requests.Session()\n",
    "browser = Browser(\"chrome\", **executable_path)"
   ]
  },
  {
   "cell_type": "code",
   "execution_count": 4,
   "metadata": {},
   "outputs": [],
   "source": [
    "browser.visit(url_path)\n",
    "time.sleep(1)\n",
    "dir_search = browser.html\n"
   ]
  },
  {
   "cell_type": "code",
   "execution_count": 5,
   "metadata": {},
   "outputs": [],
   "source": [
    "dir_table = bs(dir_search,\"lxml\")\n",
    "dir_links = dir_table.find(\"tbody\",{\"id\":\"tbody-content\"})\n",
    "iter_links = dir_links.find_all(\"a\")"
   ]
  },
  {
   "cell_type": "code",
   "execution_count": 6,
   "metadata": {},
   "outputs": [],
   "source": [
    "link_storage = []\n",
    "file_names = []"
   ]
  },
  {
   "cell_type": "code",
   "execution_count": 7,
   "metadata": {},
   "outputs": [],
   "source": [
    "for x in range(len(iter_links)):\n",
    "    link_storage.append(iter_links[x][\"href\"])\n",
    "    file_names.append(iter_links[x].text)"
   ]
  },
  {
   "cell_type": "code",
   "execution_count": 8,
   "metadata": {},
   "outputs": [
    {
     "name": "stdout",
     "output_type": "stream",
     "text": [
      "All driver browsers have been closed successfully\n"
     ]
    }
   ],
   "source": [
    "browser.quit()\n",
    "try:\n",
    "    browser.windows()\n",
    "except:\n",
    "    print(\"All driver browsers have been closed successfully\")"
   ]
  },
  {
   "cell_type": "code",
   "execution_count": 9,
   "metadata": {},
   "outputs": [],
   "source": [
    "zip_sample = [\"201802-citibike-tripdata.csv.zip\",\n",
    "             \"JC-201802-citibike-tripdata.csv.zip\"]"
   ]
  },
  {
   "cell_type": "code",
   "execution_count": 10,
   "metadata": {},
   "outputs": [],
   "source": [
    "links_files = pd.DataFrame(np.column_stack((link_storage,file_names)), columns=[\"URL\", \"Filename\"])"
   ]
  },
  {
   "cell_type": "code",
   "execution_count": null,
   "metadata": {},
   "outputs": [],
   "source": []
  },
  {
   "cell_type": "code",
   "execution_count": 19,
   "metadata": {},
   "outputs": [],
   "source": [
    "i=0\n",
    "ids = []\n",
    "for x in file_names:\n",
    "    if x == zip_sample[0] or x== zip_sample[1]:\n",
    "         ids.append(i)\n",
    "    else:\n",
    "        i = i+1\n",
    "       "
   ]
  },
  {
   "cell_type": "code",
   "execution_count": 20,
   "metadata": {},
   "outputs": [
    {
     "data": {
      "text/plain": [
       "[57, 90]"
      ]
     },
     "execution_count": 20,
     "metadata": {},
     "output_type": "execute_result"
    }
   ],
   "source": [
    "ids"
   ]
  },
  {
   "cell_type": "code",
   "execution_count": 22,
   "metadata": {},
   "outputs": [],
   "source": [
    "sample_urls = [links_files[\"URL\"][ids[0]],\n",
    "               links_files[\"URL\"][ids[1]]]"
   ]
  },
  {
   "cell_type": "code",
   "execution_count": 23,
   "metadata": {},
   "outputs": [
    {
     "data": {
      "text/plain": [
       "['https://s3.amazonaws.com/tripdata/201802-citibike-tripdata.csv.zip',\n",
       " 'https://s3.amazonaws.com/tripdata/JC-201801-citibike-tripdata.csv.zip']"
      ]
     },
     "execution_count": 23,
     "metadata": {},
     "output_type": "execute_result"
    }
   ],
   "source": [
    "sample_urls"
   ]
  },
  {
   "cell_type": "code",
   "execution_count": 24,
   "metadata": {},
   "outputs": [],
   "source": [
    "sample_filenames = [links_files[\"Filename\"][ids[0]],\n",
    "                    links_files[\"Filename\"][ids[1]]]"
   ]
  },
  {
   "cell_type": "code",
   "execution_count": 25,
   "metadata": {},
   "outputs": [
    {
     "data": {
      "text/plain": [
       "['201802-citibike-tripdata.csv.zip', 'JC-201801-citibike-tripdata.csv.zip']"
      ]
     },
     "execution_count": 25,
     "metadata": {},
     "output_type": "execute_result"
    }
   ],
   "source": [
    "sample_filenames"
   ]
  },
  {
   "cell_type": "code",
   "execution_count": 29,
   "metadata": {},
   "outputs": [],
   "source": [
    "import os"
   ]
  },
  {
   "cell_type": "code",
   "execution_count": 30,
   "metadata": {},
   "outputs": [],
   "source": [
    "os.mkdir(\"zipFiles\")"
   ]
  },
  {
   "cell_type": "code",
   "execution_count": 31,
   "metadata": {},
   "outputs": [
    {
     "name": "stderr",
     "output_type": "stream",
     "text": [
      "Aquiring CitiBike Zip Files\n",
      "0% [##] 100% | ETA: 00:00:00\n",
      "Total time elapsed: 00:00:02\n"
     ]
    }
   ],
   "source": [
    "completion = bar.ProgBar(len(sample_urls), monitor=True, title=\"Aquiring CitiBike Zip Files\")\n",
    "for x in range(len(sample_urls)):\n",
    "    url = sample_urls[x]\n",
    "    file = requests.get(url)\n",
    "    with open(\"zipFiles/\"+sample_filenames[x], \"wb\") as f:\n",
    "        f.write(file.content)\n",
    "    completion.update()"
   ]
  },
  {
   "cell_type": "code",
   "execution_count": null,
   "metadata": {},
   "outputs": [],
   "source": []
  }
 ],
 "metadata": {
  "kernelspec": {
   "display_name": "Python 3",
   "language": "python",
   "name": "python3"
  },
  "language_info": {
   "codemirror_mode": {
    "name": "ipython",
    "version": 3
   },
   "file_extension": ".py",
   "mimetype": "text/x-python",
   "name": "python",
   "nbconvert_exporter": "python",
   "pygments_lexer": "ipython3",
   "version": "3.6.6"
  }
 },
 "nbformat": 4,
 "nbformat_minor": 2
}
